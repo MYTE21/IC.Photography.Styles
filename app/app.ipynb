{
 "nbformat": 4,
 "nbformat_minor": 0,
 "metadata": {
  "colab": {
   "provenance": []
  },
  "kernelspec": {
   "name": "python3",
   "language": "python",
   "display_name": "Python 3 (ipykernel)"
  },
  "language_info": {
   "name": "python"
  }
 },
 "cells": [
  {
   "cell_type": "markdown",
   "source": [
    "# IC Photography Styles: App"
   ],
   "metadata": {
    "id": "YSgjY3-crWpa"
   }
  },
  {
   "cell_type": "markdown",
   "source": [
    "## Setting Up Necessary Things"
   ],
   "metadata": {
    "id": "wD4Mose4r43I"
   }
  },
  {
   "cell_type": "code",
   "source": [
    "# Ignore All Warnings\n",
    "import warnings\n",
    "warnings.filterwarnings(\"ignore\")"
   ],
   "metadata": {
    "id": "l4gItYKurcCH",
    "ExecuteTime": {
     "end_time": "2023-07-19T10:01:55.549258800Z",
     "start_time": "2023-07-19T10:01:55.544283800Z"
    }
   },
   "execution_count": 1,
   "outputs": []
  },
  {
   "cell_type": "markdown",
   "source": [
    "## Necessary Imports"
   ],
   "metadata": {
    "id": "2i8GqROKr6__"
   }
  },
  {
   "cell_type": "code",
   "source": [
    "from fastai.vision.all import *"
   ],
   "metadata": {
    "id": "kBKBLvqDwqTt",
    "ExecuteTime": {
     "end_time": "2023-07-19T10:02:01.096159800Z",
     "start_time": "2023-07-19T10:01:55.552383800Z"
    }
   },
   "execution_count": 2,
   "outputs": []
  },
  {
   "cell_type": "code",
   "source": [
    "from fastai.vision.all import load_learner\n",
    "import gradio as gr"
   ],
   "metadata": {
    "id": "F1BsuArgrx4u",
    "ExecuteTime": {
     "end_time": "2023-07-19T10:02:03.007673800Z",
     "start_time": "2023-07-19T10:02:01.099205300Z"
    }
   },
   "execution_count": 3,
   "outputs": []
  },
  {
   "cell_type": "markdown",
   "source": [
    "## Modeling"
   ],
   "metadata": {
    "collapsed": false
   }
  },
  {
   "cell_type": "code",
   "source": [
    "# Model Load\n",
    "model_version = 0\n",
    "model = load_learner(f\"../models/pst_recognizer_v{model_version}.pkl\")"
   ],
   "metadata": {
    "id": "6HLo7lkUsRW-",
    "ExecuteTime": {
     "end_time": "2023-07-19T10:02:03.075068400Z",
     "start_time": "2023-07-19T10:02:03.011702Z"
    }
   },
   "execution_count": 4,
   "outputs": []
  },
  {
   "cell_type": "code",
   "source": [
    "# Labels\n",
    "pst_labels = model.dls.vocab\n",
    "pst_labels"
   ],
   "metadata": {
    "colab": {
     "base_uri": "https://localhost:8080/"
    },
    "id": "JruSOYSTtQ5M",
    "outputId": "f401d46f-43bd-4c1f-9606-05e1211f2c9c",
    "ExecuteTime": {
     "end_time": "2023-07-19T10:02:03.087389500Z",
     "start_time": "2023-07-19T10:02:03.078076700Z"
    }
   },
   "execution_count": 5,
   "outputs": [
    {
     "data": {
      "text/plain": "['Abstract Photography', 'Architecture Photography', 'Astrophotography', 'Black and White Photography', 'Documentary Photography', 'Double Exposure Photography', 'Event Photography', 'Fashion Photography', 'Fine Art Photography', 'Flower Photography', 'Food Photography', 'Landscape Photography', 'Macro Photography', 'Pet Photography', 'Portrait Photography', 'Product Photography', 'Real estate Photography', 'Sports Photography', 'Still Life Photography', 'Storm Photography', 'Street Photography', 'Surreal Photography', 'Underwater Photography', 'Wedding Photography', 'Wildlife Photography']"
     },
     "execution_count": 5,
     "metadata": {},
     "output_type": "execute_result"
    }
   ]
  },
  {
   "cell_type": "code",
   "source": [
    "# Recognizer Function\n",
    "def pst_recognizer(pst_image):\n",
    "  pred, idx, probs = model.predict(pst_image)\n",
    "  return dict(zip(pst_labels, map(float, probs)))"
   ],
   "metadata": {
    "id": "VbPpnDmCtbvY",
    "ExecuteTime": {
     "end_time": "2023-07-19T10:02:03.091948600Z",
     "start_time": "2023-07-19T10:02:03.088389400Z"
    }
   },
   "execution_count": 6,
   "outputs": []
  },
  {
   "cell_type": "code",
   "source": [
    "# Image Load\n",
    "img = PILImage.create(\"../test_data/double_exposure_photography.jpg\")\n",
    "img.thumbnail((128, 128))\n",
    "img"
   ],
   "metadata": {
    "colab": {
     "base_uri": "https://localhost:8080/",
     "height": 89
    },
    "id": "DIuYTUqht9Ag",
    "outputId": "8bd07844-46e1-48bd-b191-febdbfda0e26",
    "ExecuteTime": {
     "end_time": "2023-07-19T10:02:03.150622800Z",
     "start_time": "2023-07-19T10:02:03.095459600Z"
    }
   },
   "execution_count": 7,
   "outputs": [
    {
     "data": {
      "text/plain": "PILImage mode=RGB size=128x72",
      "image/png": "[encoded data removed]"
     },
     "execution_count": 7,
     "metadata": {},
     "output_type": "execute_result"
    }
   ]
  },
  {
   "cell_type": "code",
   "source": [
    "# Prediction Probabilities\n",
    "pst_recognizer(img)"
   ],
   "metadata": {
    "colab": {
     "base_uri": "https://localhost:8080/",
     "height": 451
    },
    "id": "CoFsvYE_stCc",
    "outputId": "898a3023-4df6-4b0d-a48e-280942b335d8",
    "ExecuteTime": {
     "end_time": "2023-07-19T10:02:03.315546600Z",
     "start_time": "2023-07-19T10:02:03.177223700Z"
    }
   },
   "execution_count": 8,
   "outputs": [
    {
     "data": {
      "text/plain": "<IPython.core.display.HTML object>",
      "text/html": "\n    <div>\n        <style>\n            /* Turns off some styling */\n            progress {\n                /* gets rid of default border in Firefox and Opera. */\n                border: none;\n                /* Needs to be in here for Safari polyfill so background images work as expected. */\n                background-size: auto;\n            }\n            .progress-bar-interrupted, .progress-bar-interrupted::-webkit-progress-bar {\n                background: #F44336;\n            }\n        </style>\n      <progress value='0' class='' max='1' style='width:300px; height:20px; vertical-align: middle;'></progress>\n      \n    </div>\n    "
     },
     "metadata": {},
     "output_type": "display_data"
    },
    {
     "data": {
      "text/plain": "{'Abstract Photography': 5.4450509196612984e-05,\n 'Architecture Photography': 0.0003387904725968838,\n 'Astrophotography': 0.00017529833712615073,\n 'Black and White Photography': 0.00010269173799315467,\n 'Documentary Photography': 0.2646128535270691,\n 'Double Exposure Photography': 0.5836631059646606,\n 'Event Photography': 0.004432544577866793,\n 'Fashion Photography': 0.0006036774138920009,\n 'Fine Art Photography': 0.024323586374521255,\n 'Flower Photography': 1.8752059986582026e-05,\n 'Food Photography': 0.00022933857690077275,\n 'Landscape Photography': 0.0010654981015250087,\n 'Macro Photography': 3.9119455323088914e-05,\n 'Pet Photography': 0.0013744968455284834,\n 'Portrait Photography': 0.00010114236647496,\n 'Product Photography': 0.000160554118338041,\n 'Real estate Photography': 0.00023199945280794054,\n 'Sports Photography': 8.31353390822187e-05,\n 'Still Life Photography': 3.974159699282609e-05,\n 'Storm Photography': 8.711935515748337e-05,\n 'Street Photography': 0.0016468397807329893,\n 'Surreal Photography': 0.00529173668473959,\n 'Underwater Photography': 0.00012771054753102362,\n 'Wedding Photography': 0.10492008179426193,\n 'Wildlife Photography': 0.006275729276239872}"
     },
     "execution_count": 8,
     "metadata": {},
     "output_type": "execute_result"
    }
   ]
  },
  {
   "cell_type": "markdown",
   "source": [
    "## Gradio Application"
   ],
   "metadata": {
    "collapsed": false
   }
  },
  {
   "cell_type": "code",
   "source": [
    "image = gr.inputs.Image(shape=(192, 192))\n",
    "label = gr.outputs.Label()\n",
    "\n",
    "examples = [\n",
    "    \"architecture_photography.jpg\",\n",
    "    \"double_exposure_photography.jpg\",\n",
    "    \"food_photography.jpg\",\n",
    "    \"landscape_photography.jpg\",\n",
    "    \"portrait_photography.jpg\"\n",
    "]\n",
    "\n",
    "iface = gr.Interface(fn=pst_recognizer, inputs=image, outputs=label, examples=examples)\n",
    "iface.launch(inline=False, share=True)"
   ],
   "metadata": {
    "colab": {
     "base_uri": "https://localhost:8080/"
    },
    "id": "sCQTS1zixpo_",
    "outputId": "f9674122-28c4-4949-cd12-0d1a8cbcf884",
    "ExecuteTime": {
     "end_time": "2023-07-19T10:02:07.585928700Z",
     "start_time": "2023-07-19T10:02:03.318547600Z"
    }
   },
   "execution_count": 9,
   "outputs": [
    {
     "name": "stdout",
     "output_type": "stream",
     "text": [
      "Running on local URL:  http://127.0.0.1:7860\n",
      "\n",
      "Could not create share link. Please check your internet connection or our status page: https://status.gradio.app\n"
     ]
    },
    {
     "data": {
      "text/plain": ""
     },
     "execution_count": 9,
     "metadata": {},
     "output_type": "execute_result"
    }
   ]
  }
 ]
}
